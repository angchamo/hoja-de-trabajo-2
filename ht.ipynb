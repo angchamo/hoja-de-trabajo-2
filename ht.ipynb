{
 "cells": [
  {
   "attachments": {},
   "cell_type": "markdown",
   "metadata": {},
   "source": [
    "# HOJA DE TRABAJO 2\n",
    "## Angel Chamo \n",
    "\n",
    "## 1) "
   ]
  },
  {
   "cell_type": "code",
   "execution_count": 153,
   "metadata": {},
   "outputs": [
    {
     "name": "stdout",
     "output_type": "stream",
     "text": [
      "Horas: 1, Minutos: 37, Segundos: 51\n"
     ]
    }
   ],
   "source": [
    "segundos = int(input(\"Ingrese el numero de segundos a convertir: \"))\n",
    "\n",
    "def convertir_segundos(segundos):\n",
    "        if segundos < 0: \n",
    "            raise ValueError(\"El numero de seugndos debe ser positivo\")\n",
    "        \n",
    "        horas = segundos // 3600\n",
    "        minutos = (segundos%3600)  // 60\n",
    "        segundos = (segundos%3600) % 60\n",
    "        \n",
    "        print(f\"Horas: {horas}, Minutos: {minutos}, Segundos: {segundos}\")\n",
    "\n",
    "convertir_segundos(segundos)\n"
   ]
  },
  {
   "attachments": {},
   "cell_type": "markdown",
   "metadata": {},
   "source": [
    "## 2)"
   ]
  },
  {
   "cell_type": "code",
   "execution_count": 154,
   "metadata": {},
   "outputs": [
    {
     "name": "stdout",
     "output_type": "stream",
     "text": [
      "A\n",
      "AA\n",
      "AAA\n",
      "AAAA\n",
      "AAAAA\n",
      "AAAAA\n",
      "AAAA\n",
      "AAA\n",
      "AA\n",
      "A\n",
      "    A\n",
      "   AA\n",
      "  AAA\n",
      " AAAA\n",
      "AAAAA\n",
      "AAAAA\n",
      " AAAA\n",
      "  AAA\n",
      "   AA\n",
      "    A\n"
     ]
    }
   ],
   "source": [
    "def patrones_triangulares(num, caracter):\n",
    "    # Patrón 1\n",
    "    for i in range(1, num + 1): \n",
    "        print(caracter * i)\n",
    "\n",
    "    # Patrón 2\n",
    "    for i in range(num, 0, -1):\n",
    "        print(caracter * i)\n",
    "\n",
    "    # Patrón 3\n",
    "    for i in range(1, num + 1):\n",
    "        print(' ' * (num - i) + caracter * i)\n",
    "\n",
    "    # Patrón 4\n",
    "    for i in range(num, 0, -1):\n",
    "        print(' ' * (num - i) + caracter * i,)\n",
    "\n",
    "patrones_triangulares(5,'A')"
   ]
  },
  {
   "attachments": {},
   "cell_type": "markdown",
   "metadata": {},
   "source": [
    "## 3) "
   ]
  },
  {
   "cell_type": "code",
   "execution_count": 155,
   "metadata": {},
   "outputs": [
    {
     "name": "stdout",
     "output_type": "stream",
     "text": [
      "Su edad es: 23 años, 1 meses y 6 días\n"
     ]
    }
   ],
   "source": [
    "import datetime\n",
    "\n",
    "# Pedir al usuario que ingrese su fecha de nacimiento\n",
    "year = int(input(\"Ingrese el año de su nacimiento: \"))\n",
    "month = int(input(\"Ingrese el mes de su nacimiento (en número): \"))\n",
    "day = int(input(\"Ingrese el día de su nacimiento: \"))\n",
    "\n",
    "# Calcular la edad en años, meses y días\n",
    "birthdate = datetime.date(year, month, day)\n",
    "today = datetime.date.today()\n",
    "age = today - birthdate\n",
    "years = age.days // 365\n",
    "months = (age.days % 365) // 30\n",
    "days = (age.days % 365) % 30\n",
    "\n",
    "# Mostrar la edad en años, meses y días\n",
    "print(\"Su edad es: {} años, {} meses y {} días\".format(years, months, days))"
   ]
  },
  {
   "attachments": {},
   "cell_type": "markdown",
   "metadata": {},
   "source": [
    "## 4)"
   ]
  },
  {
   "cell_type": "code",
   "execution_count": 129,
   "metadata": {},
   "outputs": [
    {
     "name": "stdout",
     "output_type": "stream",
     "text": [
      "102040570\n"
     ]
    }
   ],
   "source": [
    "def tupla_a_string(tupla):\n",
    "    resultado = \"\"\n",
    "    for elemento in tupla:\n",
    "        resultado += str(elemento)\n",
    "    return resultado\n",
    "\n",
    "mi_tupla = (10, 20, 40, 5, 70)\n",
    "mi_string = tupla_a_string(mi_tupla)\n",
    "print(mi_string)"
   ]
  },
  {
   "attachments": {},
   "cell_type": "markdown",
   "metadata": {},
   "source": [
    "## 5)"
   ]
  },
  {
   "cell_type": "code",
   "execution_count": 133,
   "metadata": {},
   "outputs": [
    {
     "name": "stdout",
     "output_type": "stream",
     "text": [
      "[('X',), ('a', 'b'), ('a', 'b', 'c'), 'd']\n"
     ]
    }
   ],
   "source": [
    "def eliminar_tuplas_vacias(lista):\n",
    "    return list(filter(lambda tupla: len(tupla) > 0, lista))\n",
    "\n",
    "lista = [(), (), ('X',), ('a', 'b'), ('a', 'b', 'c'), ('d')]\n",
    "lista_sin_vacias = eliminar_tuplas_vacias(lista)\n",
    "print(lista_sin_vacias) "
   ]
  },
  {
   "attachments": {},
   "cell_type": "markdown",
   "metadata": {},
   "source": [
    "## 6)"
   ]
  },
  {
   "cell_type": "code",
   "execution_count": 132,
   "metadata": {},
   "outputs": [
    {
     "name": "stdout",
     "output_type": "stream",
     "text": [
      "(10.5, 44.0, 58.0)\n"
     ]
    }
   ],
   "source": [
    "def promedio_tuplas(tupla_de_tuplas):\n",
    "    promedios = []\n",
    "    for tupla in tupla_de_tuplas:\n",
    "        promedio = sum(tupla) / len(tupla)\n",
    "        promedios.append(promedio)\n",
    "    return tuple(promedios)\n",
    "\n",
    "tupla_de_tuplas = ((10, 10, 10, 12), (30, 45, 56, 45), (81, 80, 39, 32))\n",
    "resultado = promedio_tuplas(tupla_de_tuplas)\n",
    "print(resultado)  \n"
   ]
  },
  {
   "attachments": {},
   "cell_type": "markdown",
   "metadata": {},
   "source": [
    "## 7)"
   ]
  },
  {
   "cell_type": "code",
   "execution_count": 134,
   "metadata": {},
   "outputs": [
    {
     "name": "stdout",
     "output_type": "stream",
     "text": [
      "Opción inválida, intente de nuevo.\n",
      "Cantidad cobrada hasta el momento: 0\n",
      "Cantidad pendiente de cobro: 0\n",
      "Factura añadida correctamente.\n",
      "Facturas pendientes de cobro: {'5151': 200.0}\n",
      "Cantidad cobrada hasta el momento: 200.0\n",
      "Cantidad pendiente de cobro: 200.0\n",
      "Fin del programa.\n"
     ]
    }
   ],
   "source": [
    "facturas = {}\n",
    "\n",
    "while True:\n",
    "    opcion = input(\"¿Qué desea hacer? (a: añadir factura, p: pagar factura, t: terminar): \")\n",
    "    \n",
    "    if opcion == \"a\":\n",
    "        num_factura = input(\"Ingrese el número de factura (4 dígitos): \")\n",
    "        while len(num_factura) != 4 or not num_factura.isdigit():\n",
    "            num_factura = input(\"El número de factura debe tener 4 dígitos, ingrese un valor válido: \")\n",
    "        coste = float(input(\"Ingrese el coste de la factura: \"))\n",
    "        facturas[num_factura] = coste\n",
    "        print(\"Factura añadida correctamente.\")\n",
    "        print(\"Facturas pendientes de cobro:\", facturas)\n",
    "    \n",
    "    elif opcion == \"p\":\n",
    "        num_factura = input(\"Ingrese el número de factura a pagar: \")\n",
    "        while num_factura not in facturas:\n",
    "            num_factura = input(\"El número de factura ingresado no existe, ingrese un valor válido: \")\n",
    "        coste_pagado = facturas.pop(num_factura)\n",
    "        print(\"Factura pagada correctamente por un monto de\", coste_pagado)\n",
    "        print(\"Facturas pendientes de cobro:\", facturas)\n",
    "        \n",
    "    elif opcion == \"t\":\n",
    "        print(\"Fin del programa.\")\n",
    "        break\n",
    "    \n",
    "    else:\n",
    "        print(\"Opción inválida, intente de nuevo.\")\n",
    "        \n",
    "    total_cobrado = sum(facturas.values())\n",
    "    total_pendiente = sum(facturas.values())\n",
    "    print(\"Cantidad cobrada hasta el momento:\", total_cobrado)\n",
    "    print(\"Cantidad pendiente de cobro:\", total_pendiente)"
   ]
  },
  {
   "attachments": {},
   "cell_type": "markdown",
   "metadata": {},
   "source": [
    "## 8)"
   ]
  },
  {
   "cell_type": "code",
   "execution_count": 137,
   "metadata": {},
   "outputs": [
    {
     "name": "stdout",
     "output_type": "stream",
     "text": [
      "Conjunto 1: {'E-11', 'C-02', 'T-08', 'P-01', 'T-06', 'P-09', 'E-08', 'T-11', 'T-12', 'P-03', 'T-10', 'E-09', 'E-10', 'C-11', 'E-04', 'P-05', 'C-07'}\n",
      "Conjunto 2: {'P-06', 'E-08', 'C-06', 'P-11', 'T-10', 'E-13', 'P-13', 'P-05', 'C-03', 'C-02', 'P-12', 'E-12', 'C-04', 'T-11', 'E-05', 'T-01', 'E-04', 'P-10', 'T-08', 'P-01', 'P-09', 'C-01', 'T-13', 'T-12', 'T-09', 'C-12', 'C-09', 'C-13', 'T-02', 'T-05', 'P-08', 'C-11'}\n",
      "Intersección: {'C-02', 'T-08', 'P-01', 'P-09', 'E-08', 'T-11', 'T-12', 'T-10', 'E-04', 'C-11', 'P-05'}\n",
      "Probabilidad de la intersección: 0.21153846153846154\n",
      "Probabilidad de la unión: 0.7307692307692307\n",
      "Probabilidad por la regla de la adición: 0.7411242603550295\n"
     ]
    },
    {
     "name": "stderr",
     "output_type": "stream",
     "text": [
      "/var/folders/c0/gmnjtk656jx81ybjd3x7w3cm0000gn/T/ipykernel_1329/665575999.py:14: DeprecationWarning: Sampling from a set deprecated\n",
      "since Python 3.9 and will be removed in a subsequent version.\n",
      "  conjunto1 = set(random.sample(baraja, n1))\n",
      "/var/folders/c0/gmnjtk656jx81ybjd3x7w3cm0000gn/T/ipykernel_1329/665575999.py:15: DeprecationWarning: Sampling from a set deprecated\n",
      "since Python 3.9 and will be removed in a subsequent version.\n",
      "  conjunto2 = set(random.sample(baraja, n2))\n"
     ]
    }
   ],
   "source": [
    "import itertools\n",
    "\n",
    "def crear_baraja():\n",
    "    tipos = ['T', 'C', 'P', 'E']\n",
    "    numeros = ['{:02d}'.format(i) for i in range(1, 14)]\n",
    "    baraja = set('-'.join(carta) for carta in itertools.product(tipos, numeros))\n",
    "    return baraja\n",
    "\n",
    "import random\n",
    "\n",
    "def crear_conjuntos(baraja):\n",
    "    n1 = random.randint(1, len(baraja))\n",
    "    n2 = random.randint(1, len(baraja))\n",
    "    conjunto1 = set(random.sample(baraja, n1))\n",
    "    conjunto2 = set(random.sample(baraja, n2))\n",
    "    interseccion = conjunto1.intersection(conjunto2)\n",
    "    prob_interseccion = len(interseccion) / len(baraja)\n",
    "    return conjunto1, conjunto2, interseccion, prob_interseccion\n",
    "\n",
    "def calcular_prob_union(conjunto1, conjunto2):\n",
    "    union = conjunto1.union(conjunto2)\n",
    "    prob_union = len(union) / len(crear_baraja())\n",
    "    prob_conjunto1 = len(conjunto1) / len(crear_baraja())\n",
    "    prob_conjunto2 = len(conjunto2) / len(crear_baraja())\n",
    "    prob_suma = prob_conjunto1 + prob_conjunto2 - (prob_conjunto1 * prob_conjunto2)\n",
    "    return prob_union, prob_suma\n",
    "\n",
    "baraja = crear_baraja()\n",
    "conjunto1, conjunto2, interseccion, prob_interseccion = crear_conjuntos(baraja)\n",
    "prob_union, prob_suma = calcular_prob_union(conjunto1, conjunto2)\n",
    "\n",
    "print(f'Conjunto 1: {conjunto1}')\n",
    "print(f'Conjunto 2: {conjunto2}')\n",
    "print(f'Intersección: {interseccion}')\n",
    "print(f'Probabilidad de la intersección: {prob_interseccion}')\n",
    "print(f'Probabilidad de la unión: {prob_union}')\n",
    "print(f'Probabilidad por la regla de la adición: {prob_suma}')\n"
   ]
  }
 ],
 "metadata": {
  "kernelspec": {
   "display_name": "Python 3",
   "language": "python",
   "name": "python3"
  },
  "language_info": {
   "codemirror_mode": {
    "name": "ipython",
    "version": 3
   },
   "file_extension": ".py",
   "mimetype": "text/x-python",
   "name": "python",
   "nbconvert_exporter": "python",
   "pygments_lexer": "ipython3",
   "version": "3.10.6"
  },
  "orig_nbformat": 4,
  "vscode": {
   "interpreter": {
    "hash": "aee8b7b246df8f9039afb4144a1f6fd8d2ca17a180786b69acc140d282b71a49"
   }
  }
 },
 "nbformat": 4,
 "nbformat_minor": 2
}
